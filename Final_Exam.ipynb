{
  "cells": [
    {
      "cell_type": "markdown",
      "metadata": {
        "id": "view-in-github",
        "colab_type": "text"
      },
      "source": [
        "<a href=\"https://colab.research.google.com/github/SylasJoushRashellLongalong/CPEN-21A-ECE-2-3/blob/main/Final_Exam.ipynb\" target=\"_parent\"><img src=\"https://colab.research.google.com/assets/colab-badge.svg\" alt=\"Open In Colab\"/></a>"
      ]
    },
    {
      "cell_type": "markdown",
      "metadata": {
        "id": "jJJGdqVSMHYD"
      },
      "source": [
        "PROBLEM STATEMENT 1"
      ]
    },
    {
      "cell_type": "markdown",
      "metadata": {
        "id": "TNX1P10hXF8a"
      },
      "source": [
        "FOR LOOP"
      ]
    },
    {
      "cell_type": "code",
      "execution_count": null,
      "metadata": {
        "colab": {
          "base_uri": "https://localhost:8080/"
        },
        "id": "YCywE2zVXHmL",
        "outputId": "29af6ff5-d879-43eb-eec4-cb2e3a6a336c"
      },
      "outputs": [
        {
          "output_type": "stream",
          "name": "stdout",
          "text": [
            "Sum of elements less than 5 is 3.26\n",
            "Sum of elements less than 5 is 4.26\n",
            "Sum of elements less than 5 is 7.13\n",
            "Sum of elements less than 5 is 10.129999999999999\n",
            "Sum of elements less than 5 is 15.12\n",
            "Sum of elements less than 5 is 16.119999999999997\n",
            "Sum of elements less than 5 is 18.119999999999997\n",
            "Sum of elements less than 5 is 21.119999999999997\n",
            "Sum of elements less than 5 is 25.619999999999997\n"
          ]
        }
      ],
      "source": [
        "num=[3.26,1,2.87,3,4.99,5.3,6,1,2,3,4.5]\n",
        "sum=0\n",
        "for x in num:\n",
        " if x<5:\n",
        "  sum+=x\n",
        "  print(\"Sum of elements less than 5 is\",str(sum))"
      ]
    },
    {
      "cell_type": "markdown",
      "metadata": {
        "id": "3Nn1h_T9L74D"
      },
      "source": [
        "PROBLEM STATEMENT 2"
      ]
    },
    {
      "cell_type": "markdown",
      "metadata": {
        "id": "Z4pUD0RFUlcl"
      },
      "source": [
        "WHILE LOOP"
      ]
    },
    {
      "cell_type": "code",
      "source": [
        "num1=int(input(\"1st number\"))\n",
        "num2=int(input(\"2nd number\"))\n",
        "num3=int(input(\"3rd number\"))\n",
        "num4=int(input(\"4th number\"))\n",
        "num5=int(input(\"5th number\"))\n",
        "if num1>0:\n",
        "  while num5>0:\n",
        "    num=num1+num5\n",
        "    print(\"Sum of 1st and 5th number is\",num)\n",
        "    if num==num:\n",
        "      break"
      ],
      "metadata": {
        "colab": {
          "base_uri": "https://localhost:8080/"
        },
        "id": "VRLiPnsMBMhp",
        "outputId": "b71a433a-e481-4da6-e403-776ee416d4fb"
      },
      "execution_count": null,
      "outputs": [
        {
          "output_type": "stream",
          "name": "stdout",
          "text": [
            "1st number8\n",
            "2nd number7\n",
            "3rd number9\n",
            "4th number6\n",
            "5th number8\n",
            "Sum of 1st and 5th number is 16\n"
          ]
        }
      ]
    },
    {
      "cell_type": "markdown",
      "metadata": {
        "id": "_3Mx4_ixMQ1L"
      },
      "source": [
        "PROBLEM STATEMENT 3"
      ]
    },
    {
      "cell_type": "code",
      "execution_count": null,
      "metadata": {
        "colab": {
          "base_uri": "https://localhost:8080/"
        },
        "id": "0txoy8flXZil",
        "outputId": "ca03e11d-bc42-4f83-ad2e-4020c6e46e99"
      },
      "outputs": [
        {
          "name": "stdout",
          "output_type": "stream",
          "text": [
            "Please Enter Your Grade:90\n",
            "A\n"
          ]
        }
      ],
      "source": [
        "grade= float(input(\"Please Enter Your Grade:\",))\n",
        "\n",
        "if grade <0:\n",
        "  print(\"Please Enter A Valid Grade\")\n",
        "else:\n",
        "  if grade<60:\n",
        "    print(\"F\")\n",
        "  else:\n",
        "    if grade<70:\n",
        "      print(\"D\")\n",
        "    else:\n",
        "      if grade<80:\n",
        "        print(\"C\")\n",
        "      else:\n",
        "        if grade<90:\n",
        "          print(\"B\")\n",
        "        else:\n",
        "          if grade<=100:\n",
        "            print(\"A\")\n",
        "          else:\n",
        "            print(\"Please Enter A Valid Grade\")"
      ]
    }
  ],
  "metadata": {
    "colab": {
      "name": "Final Exam.ipynb",
      "provenance": [],
      "authorship_tag": "ABX9TyMjDpeAFHX9yqmXhBs02SF0",
      "include_colab_link": true
    },
    "kernelspec": {
      "display_name": "Python 3",
      "name": "python3"
    },
    "language_info": {
      "name": "python"
    }
  },
  "nbformat": 4,
  "nbformat_minor": 0
}