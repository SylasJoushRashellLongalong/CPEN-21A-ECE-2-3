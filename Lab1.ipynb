{
  "nbformat": 4,
  "nbformat_minor": 0,
  "metadata": {
    "colab": {
      "name": "Lab1.ipynb",
      "provenance": [],
      "authorship_tag": "ABX9TyPUBbgl1J98Z5GYAlWyzvSD",
      "include_colab_link": true
    },
    "kernelspec": {
      "name": "python3",
      "display_name": "Python 3"
    },
    "language_info": {
      "name": "python"
    }
  },
  "cells": [
    {
      "cell_type": "markdown",
      "metadata": {
        "id": "view-in-github",
        "colab_type": "text"
      },
      "source": [
        "<a href=\"https://colab.research.google.com/github/SylasJoushRashellLongalong/CPEN-21A-ECE-2-3/blob/main/Lab1.ipynb\" target=\"_parent\"><img src=\"https://colab.research.google.com/assets/colab-badge.svg\" alt=\"Open In Colab\"/></a>"
      ]
    },
    {
      "cell_type": "code",
      "metadata": {
        "colab": {
          "base_uri": "https://localhost:8080/"
        },
        "id": "W4LvEeLvoXDZ",
        "outputId": "9d4cc3f9-7af0-4876-8b38-775f09dfa45d"
      },
      "source": [
        "H = \"Labaratory 1\"\n",
        "print (H)"
      ],
      "execution_count": null,
      "outputs": [
        {
          "output_type": "stream",
          "name": "stdout",
          "text": [
            "Labaratory 1\n"
          ]
        }
      ]
    },
    {
      "cell_type": "code",
      "metadata": {
        "colab": {
          "base_uri": "https://localhost:8080/"
        },
        "id": "x9lhgDbAgdrq",
        "outputId": "2e1d1d57-fd2b-4fad-8367-fea3ce80874e"
      },
      "source": [
        "I = \"Welcome to Phyton Programming\"\n",
        "print (I)\n"
      ],
      "execution_count": null,
      "outputs": [
        {
          "output_type": "stream",
          "name": "stdout",
          "text": [
            "Welcome to Phyton Programming\n"
          ]
        }
      ]
    },
    {
      "cell_type": "code",
      "metadata": {
        "colab": {
          "base_uri": "https://localhost:8080/"
        },
        "id": "Sk8RzCTWi82_",
        "outputId": "d7409b90-95e7-4249-81f9-7095376d40a9"
      },
      "source": [
        "C = \"I am Sylas Joush Rashell A. Longalong\"\n",
        "P = \"From 0358 Sirang Lupa, Calamba City, Laguna\"\n",
        "E = \"19 years old\"\n",
        "N = \"Studies at Cavite State University\"\n",
        "\n",
        "print (C)\n",
        "print (P)\n",
        "print (E)\n",
        "print (N)\n"
      ],
      "execution_count": null,
      "outputs": [
        {
          "output_type": "stream",
          "name": "stdout",
          "text": [
            "I am Sylas Joush Rashell A. Longalong\n",
            "From 0358 Sirang Lupa, Calamba City, Laguna\n",
            "19 years old\n",
            "Studies at Cavite State University\n"
          ]
        }
      ]
    }
  ]
}