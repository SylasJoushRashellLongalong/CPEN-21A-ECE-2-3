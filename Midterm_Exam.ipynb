{
  "nbformat": 4,
  "nbformat_minor": 0,
  "metadata": {
    "colab": {
      "name": "Midterm Exam.ipynb",
      "provenance": [],
      "authorship_tag": "ABX9TyPnIVBE/t6QW1cxNmmDv4rf",
      "include_colab_link": true
    },
    "kernelspec": {
      "name": "python3",
      "display_name": "Python 3"
    },
    "language_info": {
      "name": "python"
    }
  },
  "cells": [
    {
      "cell_type": "markdown",
      "metadata": {
        "id": "view-in-github",
        "colab_type": "text"
      },
      "source": [
        "<a href=\"https://colab.research.google.com/github/SylasJoushRashellLongalong/CPEN-21A-ECE-2-3/blob/main/Midterm_Exam.ipynb\" target=\"_parent\"><img src=\"https://colab.research.google.com/assets/colab-badge.svg\" alt=\"Open In Colab\"/></a>"
      ]
    },
    {
      "cell_type": "markdown",
      "metadata": {
        "id": "9zlARee5wQ-C"
      },
      "source": [
        "PROBLEM STATEMENT 1."
      ]
    },
    {
      "cell_type": "markdown",
      "metadata": {
        "id": "MNCxal_atrav"
      },
      "source": [
        "Full Name"
      ]
    },
    {
      "cell_type": "code",
      "metadata": {
        "colab": {
          "base_uri": "https://localhost:8080/"
        },
        "id": "YMfKk0z_ttnG",
        "outputId": "922ad3e4-96ed-48e9-ff85-0e20a252bf22"
      },
      "source": [
        "S= \"Sylas Joush Rashell Abugan Longalong\"\n",
        "print (S)"
      ],
      "execution_count": 6,
      "outputs": [
        {
          "output_type": "stream",
          "name": "stdout",
          "text": [
            "Sylas Joush Rashell Abugan Longalong\n"
          ]
        }
      ]
    },
    {
      "cell_type": "markdown",
      "metadata": {
        "id": "dQSDqcPYuvKw"
      },
      "source": [
        "Student Number"
      ]
    },
    {
      "cell_type": "code",
      "metadata": {
        "colab": {
          "base_uri": "https://localhost:8080/"
        },
        "id": "1pOenfv-u0cC",
        "outputId": "ef8aa845-4545-47ca-9d81-70c4a76482bb"
      },
      "source": [
        "Y= \"202014932\"\n",
        "print (Y)"
      ],
      "execution_count": 7,
      "outputs": [
        {
          "output_type": "stream",
          "name": "stdout",
          "text": [
            "202014932\n"
          ]
        }
      ]
    },
    {
      "cell_type": "markdown",
      "metadata": {
        "id": "ss9mUd9xvCm2"
      },
      "source": [
        "Age"
      ]
    },
    {
      "cell_type": "code",
      "metadata": {
        "colab": {
          "base_uri": "https://localhost:8080/"
        },
        "id": "r9r0r8LavJU1",
        "outputId": "31e99d7d-c175-41ad-eabc-6f37f2befbb4"
      },
      "source": [
        "L= \"19 years old\"\n",
        "print (L)"
      ],
      "execution_count": 8,
      "outputs": [
        {
          "output_type": "stream",
          "name": "stdout",
          "text": [
            "19 years old\n"
          ]
        }
      ]
    },
    {
      "cell_type": "markdown",
      "metadata": {
        "id": "hAbAfV4cvQme"
      },
      "source": [
        "Birthday"
      ]
    },
    {
      "cell_type": "code",
      "metadata": {
        "colab": {
          "base_uri": "https://localhost:8080/"
        },
        "id": "LVt_GRcwvTtw",
        "outputId": "73881482-85ae-4a96-a376-630fa0e374f6"
      },
      "source": [
        "A= \"December 27, 2001\"\n",
        "print (A)"
      ],
      "execution_count": 9,
      "outputs": [
        {
          "output_type": "stream",
          "name": "stdout",
          "text": [
            "December 27, 2001\n"
          ]
        }
      ]
    },
    {
      "cell_type": "markdown",
      "metadata": {
        "id": "E4ux36tCvdPQ"
      },
      "source": [
        "Address"
      ]
    },
    {
      "cell_type": "code",
      "metadata": {
        "colab": {
          "base_uri": "https://localhost:8080/"
        },
        "id": "gB7DGujYvfl1",
        "outputId": "bc0e31c8-2785-4228-ddd0-2cd299b34f3c"
      },
      "source": [
        "S= \"0358 Sirang Lupa, Calamba City, Laguna\"\n",
        "print (S)"
      ],
      "execution_count": 10,
      "outputs": [
        {
          "output_type": "stream",
          "name": "stdout",
          "text": [
            "0358 Sirang Lupa, Calamba City, Laguna\n"
          ]
        }
      ]
    },
    {
      "cell_type": "markdown",
      "metadata": {
        "id": "iK1odaQlvrs2"
      },
      "source": [
        "Course"
      ]
    },
    {
      "cell_type": "code",
      "metadata": {
        "colab": {
          "base_uri": "https://localhost:8080/"
        },
        "id": "A0nv7NpavtvX",
        "outputId": "3a4e1a9a-be09-429e-842a-8de3e50d3072"
      },
      "source": [
        "J=\"BSECE 2-3\"\n",
        "print (J)"
      ],
      "execution_count": 11,
      "outputs": [
        {
          "output_type": "stream",
          "name": "stdout",
          "text": [
            "BSECE 2-3\n"
          ]
        }
      ]
    },
    {
      "cell_type": "markdown",
      "metadata": {
        "id": "xllmS2vJv1fV"
      },
      "source": [
        "Last Sem GWA"
      ]
    },
    {
      "cell_type": "code",
      "metadata": {
        "colab": {
          "base_uri": "https://localhost:8080/"
        },
        "id": "6ms57dDRv5H9",
        "outputId": "5f7d46fd-a3f8-4bee-a122-5eb28d929c3b"
      },
      "source": [
        "O= \"1.58\"\n",
        "print (O)"
      ],
      "execution_count": 12,
      "outputs": [
        {
          "output_type": "stream",
          "name": "stdout",
          "text": [
            "1.58\n"
          ]
        }
      ]
    },
    {
      "cell_type": "markdown",
      "metadata": {
        "id": "gAQ4DJ3vwge3"
      },
      "source": [
        "PROBLEM STATEMENT 2."
      ]
    },
    {
      "cell_type": "markdown",
      "metadata": {
        "id": "ACoFKoD4wl_F"
      },
      "source": [
        "A. (2<n) And (n<6)\n",
        "B. (2<n) Or (n=6)\n",
        "C. Not(2<n) Or (n=6)\n",
        "D. Not(n<6)\n",
        "E. (answ=\"Y\" Or (answ=\"y\")\n",
        "F. (answ=\"Y\" And (answ=\"y\")\n",
        "G. Not(answ=\"y\")\n",
        "H. ((2<n)And(n=5+1)) Or (answ=\"No\")\n",
        "I. ((n=2)And(n=7) Or (answ=\"Y\")\n",
        "J. (n=2) Ans ((n=7) Or(answ=\"Y\"))"
      ]
    },
    {
      "cell_type": "code",
      "metadata": {
        "colab": {
          "base_uri": "https://localhost:8080/"
        },
        "id": "8BgQBW2b6XQq",
        "outputId": "40fd87a2-216e-40cd-ffe1-9742499836d8"
      },
      "source": [
        "n = 4\n",
        "answ = \"Y\"\n",
        "print((2<n)and(n<6))\n",
        "print((2<n)or(n==6))\n",
        "print(not(2<n)or(n==6))\n",
        "print(not(n<6))\n",
        "print((answ==\"Y\")or(answ==\"Y\"))\n",
        "print((answ==\"Y\")and(answ==\"Y\"))\n",
        "print(not(answ==\"Y\"))\n",
        "print([(2<n)and(n==5+1)]or[(answ==\"No\")])\n",
        "print([(n==2)and(n==7)]or[(answ==\"Y\")])\n",
        "print([(n==2)and(n==7)]or[(answ==\"Y\")])"
      ],
      "execution_count": 38,
      "outputs": [
        {
          "output_type": "stream",
          "name": "stdout",
          "text": [
            "True\n",
            "True\n",
            "False\n",
            "False\n",
            "True\n",
            "True\n",
            "False\n",
            "[False]\n",
            "[False]\n",
            "[False]\n"
          ]
        }
      ]
    },
    {
      "cell_type": "markdown",
      "metadata": {
        "id": "0Ii4qQTm8VLr"
      },
      "source": [
        "PROBLEM STATEMENT 3."
      ]
    },
    {
      "cell_type": "markdown",
      "metadata": {
        "id": "0PrVFgXK8bJ7"
      },
      "source": [
        "a. x/y\n",
        "b. w/y/x\n",
        "c. z/y%x\n",
        "d. x%-yx\n",
        "e. x%y*w\n",
        "f. z%w-y/x*5+5\n",
        "g. 9-x%(2+y)\n",
        "h. z//w\n",
        "i. (2+y)**2\n",
        "j. w/x*2"
      ]
    },
    {
      "cell_type": "code",
      "metadata": {
        "colab": {
          "base_uri": "https://localhost:8080/"
        },
        "id": "x-0U8jUj-b7f",
        "outputId": "99e8cf32-feab-469a-b9d7-3dc3f992dc41"
      },
      "source": [
        "x=2\n",
        "y=-3\n",
        "w=7\n",
        "z=-10\n",
        "print(x/y)\n",
        "print(w/y/x)\n",
        "print(z/y%x)\n",
        "print(x%-y*w)\n",
        "print(x%y)\n",
        "print(z%w-y/x*5+5)\n",
        "print(9-x%(2+y))\n",
        "print(z//w)\n",
        "print((2+y)**2)\n",
        "print(w/x*2)"
      ],
      "execution_count": 41,
      "outputs": [
        {
          "output_type": "stream",
          "name": "stdout",
          "text": [
            "-0.6666666666666666\n",
            "-1.1666666666666667\n",
            "1.3333333333333335\n",
            "14\n",
            "-1\n",
            "16.5\n",
            "9\n",
            "-2\n",
            "1\n",
            "7.0\n"
          ]
        }
      ]
    }
  ]
}