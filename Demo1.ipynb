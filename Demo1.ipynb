{
  "nbformat": 4,
  "nbformat_minor": 0,
  "metadata": {
    "colab": {
      "name": "Demo1.ipynb",
      "provenance": [],
      "authorship_tag": "ABX9TyPqb6a7QTQ/KfHSK54uf+1h",
      "include_colab_link": true
    },
    "kernelspec": {
      "name": "python3",
      "display_name": "Python 3"
    },
    "language_info": {
      "name": "python"
    }
  },
  "cells": [
    {
      "cell_type": "markdown",
      "metadata": {
        "id": "view-in-github",
        "colab_type": "text"
      },
      "source": [
        "<a href=\"https://colab.research.google.com/github/SylasJoushRashellLongalong/CPEN-21A-ECE-2-3/blob/main/Demo1.ipynb\" target=\"_parent\"><img src=\"https://colab.research.google.com/assets/colab-badge.svg\" alt=\"Open In Colab\"/></a>"
      ]
    },
    {
      "cell_type": "markdown",
      "metadata": {
        "id": "bbeUUy-__6Ne"
      },
      "source": [
        "Phyton Variable"
      ]
    },
    {
      "cell_type": "code",
      "metadata": {
        "id": "BBc9h8TH_9hN"
      },
      "source": [
        "x = 1\n",
        "a, b = 0, -1\n",
        "a, b, c = 0, -1, 2\n",
        "b = \"Sally\""
      ],
      "execution_count": 18,
      "outputs": []
    },
    {
      "cell_type": "markdown",
      "metadata": {
        "id": "Phrx6Lj89VOR"
      },
      "source": [
        "Casting"
      ]
    },
    {
      "cell_type": "code",
      "metadata": {
        "colab": {
          "base_uri": "https://localhost:8080/"
        },
        "id": "cMETH6hA9qO5",
        "outputId": "2a6da5f3-1a4b-433c-97b0-dae2b5ea8db3"
      },
      "source": [
        "b = \"sally\" \n",
        "b = int (4)\n",
        "print (b)\n",
        "b = float (4)\n",
        "print (b)"
      ],
      "execution_count": 12,
      "outputs": [
        {
          "output_type": "stream",
          "name": "stdout",
          "text": [
            "4\n",
            "4.0\n"
          ]
        }
      ]
    },
    {
      "cell_type": "markdown",
      "metadata": {
        "id": "LyeXWG_B7mtC"
      },
      "source": [
        "Type () Function"
      ]
    },
    {
      "cell_type": "code",
      "metadata": {
        "colab": {
          "base_uri": "https://localhost:8080/"
        },
        "id": "RCf9ZynY7usl",
        "outputId": "008334e6-f0c0-4dd4-f00a-5b379fa17b27"
      },
      "source": [
        "x = 5\n",
        "y = \"John\"\n",
        "print (type(x))\n",
        "print (type (y))"
      ],
      "execution_count": 3,
      "outputs": [
        {
          "output_type": "stream",
          "name": "stdout",
          "text": [
            "<class 'int'>\n",
            "<class 'str'>\n"
          ]
        }
      ]
    },
    {
      "cell_type": "markdown",
      "metadata": {
        "id": "zLZQcLRY8Nnk"
      },
      "source": [
        "Double Quotes or Single Quotes"
      ]
    },
    {
      "cell_type": "code",
      "metadata": {
        "colab": {
          "base_uri": "https://localhost:8080/"
        },
        "id": "Ud08bTBM8Wsp",
        "outputId": "a9b57081-bcd5-4c89-b044-7f833202d24c"
      },
      "source": [
        "y = \"John\"\n",
        "x = 'John'\n",
        "print (y)\n",
        "print (x)"
      ],
      "execution_count": 7,
      "outputs": [
        {
          "output_type": "stream",
          "name": "stdout",
          "text": [
            "John\n",
            "John\n"
          ]
        }
      ]
    },
    {
      "cell_type": "markdown",
      "metadata": {
        "id": "3lx5ZKgw84pt"
      },
      "source": [
        "Case Sensitive"
      ]
    },
    {
      "cell_type": "code",
      "metadata": {
        "colab": {
          "base_uri": "https://localhost:8080/"
        },
        "id": "DdQ1jtxv87lO",
        "outputId": "7a58b358-b6d9-4324-d90f-784a0307d93e"
      },
      "source": [
        "a = 4\n",
        "A = \"Sally\"\n",
        "#A will not over write a\n",
        "print (a)\n",
        "print (A)"
      ],
      "execution_count": 9,
      "outputs": [
        {
          "output_type": "stream",
          "name": "stdout",
          "text": [
            "4\n",
            "Sally\n"
          ]
        }
      ]
    },
    {
      "cell_type": "markdown",
      "metadata": {
        "id": "fgfGv4lt-W-z"
      },
      "source": [
        "Multiple Variables"
      ]
    },
    {
      "cell_type": "code",
      "metadata": {
        "colab": {
          "base_uri": "https://localhost:8080/"
        },
        "id": "4GOGhLkJ-bgZ",
        "outputId": "c8864bb8-e421-4116-f353-3ecf4240444b"
      },
      "source": [
        "x, y, z = \"one\", \"two\", \"three\"\n",
        "print (x)\n",
        "print (y)\n",
        "print (z)"
      ],
      "execution_count": 13,
      "outputs": [
        {
          "output_type": "stream",
          "name": "stdout",
          "text": [
            "one\n",
            "two\n",
            "three\n"
          ]
        }
      ]
    },
    {
      "cell_type": "markdown",
      "metadata": {
        "id": "Q3t32cMR-2BD"
      },
      "source": [
        "One Value to Multiple Variables"
      ]
    },
    {
      "cell_type": "code",
      "metadata": {
        "colab": {
          "base_uri": "https://localhost:8080/"
        },
        "id": "PMwpi8N2-7_F",
        "outputId": "84f6fe13-677b-460b-c0ce-72e6fce39d6b"
      },
      "source": [
        "x = y = z = \"four\"\n",
        "print (x)\n",
        "print (y)\n",
        "print (z)"
      ],
      "execution_count": 14,
      "outputs": [
        {
          "output_type": "stream",
          "name": "stdout",
          "text": [
            "four\n",
            "four\n",
            "four\n"
          ]
        }
      ]
    },
    {
      "cell_type": "markdown",
      "metadata": {
        "id": "TLhvX1Gi_LSN"
      },
      "source": [
        "Output Variables"
      ]
    },
    {
      "cell_type": "code",
      "metadata": {
        "colab": {
          "base_uri": "https://localhost:8080/"
        },
        "id": "NPTlRHWT_PJH",
        "outputId": "36444710-afc5-4158-e3d8-33a3f3115aa3"
      },
      "source": [
        "x = \"enjoying\"\n",
        "print (\"Phython programming is\" + x)"
      ],
      "execution_count": 15,
      "outputs": [
        {
          "output_type": "stream",
          "name": "stdout",
          "text": [
            "Phython programming isenjoying\n"
          ]
        }
      ]
    },
    {
      "cell_type": "code",
      "metadata": {
        "colab": {
          "base_uri": "https://localhost:8080/"
        },
        "id": "CQ_4MAVj_iHm",
        "outputId": "3c141213-7e9f-406d-9155-5f9f71a8b083"
      },
      "source": [
        "x = \"Phyton is\"\n",
        "y = \"enjoying\"\n",
        "z = x + y\n",
        "print (z)"
      ],
      "execution_count": 16,
      "outputs": [
        {
          "output_type": "stream",
          "name": "stdout",
          "text": [
            "Phyton isenjoying\n"
          ]
        }
      ]
    },
    {
      "cell_type": "markdown",
      "metadata": {
        "id": "xaGMOomnAhTQ"
      },
      "source": [
        "Operations of Phyton"
      ]
    },
    {
      "cell_type": "code",
      "metadata": {
        "colab": {
          "base_uri": "https://localhost:8080/"
        },
        "id": "3RpoCq9YAl6P",
        "outputId": "69a402c3-a8fd-44d5-fcde-7cd20fb3d8ff"
      },
      "source": [
        "k = 10\n",
        "l =  5\n",
        "print(k+l)"
      ],
      "execution_count": 24,
      "outputs": [
        {
          "output_type": "stream",
          "name": "stdout",
          "text": [
            "15\n"
          ]
        }
      ]
    },
    {
      "cell_type": "code",
      "metadata": {
        "colab": {
          "base_uri": "https://localhost:8080/"
        },
        "id": "CGwVkZe5CVkr",
        "outputId": "3ac5ee79-4626-482a-e521-2671a5172efb"
      },
      "source": [
        "k+=l\n",
        "print (k)"
      ],
      "execution_count": 25,
      "outputs": [
        {
          "output_type": "stream",
          "name": "stdout",
          "text": [
            "15\n"
          ]
        }
      ]
    },
    {
      "cell_type": "code",
      "metadata": {
        "colab": {
          "base_uri": "https://localhost:8080/"
        },
        "id": "anMQbiiMDV4Q",
        "outputId": "26ed53c8-7182-4d1c-b1ca-e6c78a4351b7"
      },
      "source": [
        "k>l and l==l"
      ],
      "execution_count": 29,
      "outputs": [
        {
          "output_type": "execute_result",
          "data": {
            "text/plain": [
              "True"
            ]
          },
          "metadata": {},
          "execution_count": 29
        }
      ]
    },
    {
      "cell_type": "code",
      "metadata": {
        "colab": {
          "base_uri": "https://localhost:8080/"
        },
        "id": "LApQbRLXEShs",
        "outputId": "608904d9-120b-48ad-e710-78dc4cd33c0b"
      },
      "source": [
        "k<l or k==k"
      ],
      "execution_count": 31,
      "outputs": [
        {
          "output_type": "execute_result",
          "data": {
            "text/plain": [
              "True"
            ]
          },
          "metadata": {},
          "execution_count": 31
        }
      ]
    },
    {
      "cell_type": "code",
      "metadata": {
        "colab": {
          "base_uri": "https://localhost:8080/"
        },
        "id": "AGV-nA2NEhWc",
        "outputId": "81939096-742c-46cf-a481-1af81740a591"
      },
      "source": [
        "not (k<l or k==k)"
      ],
      "execution_count": 32,
      "outputs": [
        {
          "output_type": "execute_result",
          "data": {
            "text/plain": [
              "False"
            ]
          },
          "metadata": {},
          "execution_count": 32
        }
      ]
    },
    {
      "cell_type": "code",
      "metadata": {
        "colab": {
          "base_uri": "https://localhost:8080/"
        },
        "id": "r2rMxh5vEq6-",
        "outputId": "a21530a4-29c3-4f41-f487-62a43f32e30b"
      },
      "source": [
        "k is l"
      ],
      "execution_count": 33,
      "outputs": [
        {
          "output_type": "execute_result",
          "data": {
            "text/plain": [
              "False"
            ]
          },
          "metadata": {},
          "execution_count": 33
        }
      ]
    },
    {
      "cell_type": "code",
      "metadata": {
        "colab": {
          "base_uri": "https://localhost:8080/"
        },
        "id": "o5TZSklvEtt8",
        "outputId": "1c6e4e83-551c-452b-aded-a1ea53b66d53"
      },
      "source": [
        "k%=5\n",
        "k"
      ],
      "execution_count": 35,
      "outputs": [
        {
          "output_type": "execute_result",
          "data": {
            "text/plain": [
              "0"
            ]
          },
          "metadata": {},
          "execution_count": 35
        }
      ]
    }
  ]
}